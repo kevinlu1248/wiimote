{
 "cells": [
  {
   "cell_type": "code",
   "execution_count": 6,
   "metadata": {},
   "outputs": [
    {
     "ename": "OSError",
     "evalue": "[Errno 113] No route to host",
     "output_type": "error",
     "traceback": [
      "\u001b[0;31m---------------------------------------------------------------------------\u001b[0m",
      "\u001b[0;31mOSError\u001b[0m                                   Traceback (most recent call last)",
      "\u001b[0;32m<ipython-input-6-9807cc360440>\u001b[0m in \u001b[0;36m<module>\u001b[0;34m\u001b[0m\n\u001b[1;32m      5\u001b[0m \u001b[0mport\u001b[0m \u001b[0;34m=\u001b[0m \u001b[0;36m3\u001b[0m\u001b[0;34m\u001b[0m\u001b[0;34m\u001b[0m\u001b[0m\n\u001b[1;32m      6\u001b[0m \u001b[0ms\u001b[0m \u001b[0;34m=\u001b[0m \u001b[0msocket\u001b[0m\u001b[0;34m.\u001b[0m\u001b[0msocket\u001b[0m\u001b[0;34m(\u001b[0m\u001b[0msocket\u001b[0m\u001b[0;34m.\u001b[0m\u001b[0mAF_BLUETOOTH\u001b[0m\u001b[0;34m,\u001b[0m \u001b[0msocket\u001b[0m\u001b[0;34m.\u001b[0m\u001b[0mSOCK_STREAM\u001b[0m\u001b[0;34m,\u001b[0m \u001b[0msocket\u001b[0m\u001b[0;34m.\u001b[0m\u001b[0mBTPROTO_RFCOMM\u001b[0m\u001b[0;34m)\u001b[0m\u001b[0;34m\u001b[0m\u001b[0;34m\u001b[0m\u001b[0m\n\u001b[0;32m----> 7\u001b[0;31m \u001b[0ms\u001b[0m\u001b[0;34m.\u001b[0m\u001b[0mconnect\u001b[0m\u001b[0;34m(\u001b[0m\u001b[0;34m(\u001b[0m\u001b[0mserverMACAddress\u001b[0m\u001b[0;34m,\u001b[0m \u001b[0mport\u001b[0m\u001b[0;34m)\u001b[0m\u001b[0;34m)\u001b[0m\u001b[0;34m\u001b[0m\u001b[0;34m\u001b[0m\u001b[0m\n\u001b[0m\u001b[1;32m      8\u001b[0m \u001b[0;32mwhile\u001b[0m \u001b[0;36m1\u001b[0m\u001b[0;34m:\u001b[0m\u001b[0;34m\u001b[0m\u001b[0;34m\u001b[0m\u001b[0m\n\u001b[1;32m      9\u001b[0m     \u001b[0mtext\u001b[0m \u001b[0;34m=\u001b[0m \u001b[0minput\u001b[0m\u001b[0;34m(\u001b[0m\u001b[0;34m)\u001b[0m\u001b[0;34m\u001b[0m\u001b[0;34m\u001b[0m\u001b[0m\n",
      "\u001b[0;31mOSError\u001b[0m: [Errno 113] No route to host"
     ]
    }
   ],
   "source": [
    "import socket\n",
    "\n",
    "serverMACAddress = '9C:B6:D0:E5:08:96'\n",
    "# serverMACAddress = '00:26:59:F8:9E:30'\n",
    "port = 3\n",
    "s = socket.socket(socket.AF_BLUETOOTH, socket.SOCK_STREAM, socket.BTPROTO_RFCOMM)\n",
    "s.connect((serverMACAddress, port)) \n",
    "while 1:\n",
    "    text = input()\n",
    "    if text == \"quit\":\n",
    "        break\n",
    "    s.send(bytes(text, 'UTF-8'))\n",
    "s.close()"
   ]
  },
  {
   "cell_type": "code",
   "execution_count": 5,
   "metadata": {},
   "outputs": [
    {
     "data": {
      "text/plain": [
       "\u001b[0;31mDocstring:\u001b[0m\n",
       "connect(address)\n",
       "\n",
       "Connect the socket to a remote address.  For IP sockets, the address\n",
       "is a pair (host, port).\n",
       "\u001b[0;31mType:\u001b[0m      builtin_function_or_method\n"
      ]
     },
     "metadata": {},
     "output_type": "display_data"
    }
   ],
   "source": [
    "? s.connect"
   ]
  },
  {
   "cell_type": "code",
   "execution_count": 3,
   "metadata": {},
   "outputs": [],
   "source": [
    "import cwiid\n",
    "from time import sleep\n",
    "wm = cwiid.Wiimote()\n",
    "\n",
    "# confirm connected\n",
    "wm.led = 0\n",
    "for _ in range(2):\n",
    "    wm.led = 15\n",
    "    wm.rumble = 1\n",
    "    sleep(0.2)\n",
    "    wm.led = 0\n",
    "    wm.rumble = 0\n",
    "    sleep(0.2)\n",
    "\n",
    "wm.led = 9\n",
    "wm.rumble = 0\n",
    "wm.rpt_mode = cwiid.RPT_IR ^ cwiid.RPT_BTN"
   ]
  },
  {
   "cell_type": "code",
   "execution_count": 11,
   "metadata": {},
   "outputs": [
    {
     "name": "stdout",
     "output_type": "stream",
     "text": [
      "0\n"
     ]
    }
   ],
   "source": [
    "import time\n",
    "from itertools import cycle\n",
    "wm.led = 9\n",
    "wm.rpt_mode = cwiid.RPT_IR ^ cwiid.RPT_BTN\n",
    "print(wm.state['buttons']  & cwiid.BTN_1)\n",
    "\n",
    "# for i in cycle((1, 2, 4, 8)):\n",
    "#   wm.led = i\n",
    "#   time.sleep(0.1)"
   ]
  },
  {
   "cell_type": "code",
   "execution_count": 160,
   "metadata": {},
   "outputs": [
    {
     "name": "stdout",
     "output_type": "stream",
     "text": [
      "0.2568359375 0.30078125 1\n",
      "0.2451171875 0.08463541666666667 3\n"
     ]
    },
    {
     "ename": "KeyboardInterrupt",
     "evalue": "",
     "output_type": "error",
     "traceback": [
      "\u001b[0;31m---------------------------------------------------------------------------\u001b[0m",
      "\u001b[0;31mKeyboardInterrupt\u001b[0m                         Traceback (most recent call last)",
      "\u001b[0;32m<ipython-input-160-ffac59af9275>\u001b[0m in \u001b[0;36m<module>\u001b[0;34m\u001b[0m\n\u001b[1;32m      1\u001b[0m \u001b[0;32mwhile\u001b[0m \u001b[0;36m1\u001b[0m\u001b[0;34m:\u001b[0m\u001b[0;34m\u001b[0m\u001b[0;34m\u001b[0m\u001b[0m\n\u001b[0;32m----> 2\u001b[0;31m     \u001b[0msleep\u001b[0m\u001b[0;34m(\u001b[0m\u001b[0mREFRESH_RATE\u001b[0m\u001b[0;34m)\u001b[0m\u001b[0;34m\u001b[0m\u001b[0;34m\u001b[0m\u001b[0m\n\u001b[0m\u001b[1;32m      3\u001b[0m     \u001b[0mstate\u001b[0m \u001b[0;34m=\u001b[0m \u001b[0mgetIR\u001b[0m\u001b[0;34m(\u001b[0m\u001b[0;34m)\u001b[0m\u001b[0;34m\u001b[0m\u001b[0;34m\u001b[0m\u001b[0m\n\u001b[1;32m      4\u001b[0m     \u001b[0;32mif\u001b[0m \u001b[0mstate\u001b[0m\u001b[0;34m:\u001b[0m\u001b[0;34m\u001b[0m\u001b[0;34m\u001b[0m\u001b[0m\n\u001b[1;32m      5\u001b[0m         \u001b[0mx\u001b[0m\u001b[0;34m,\u001b[0m \u001b[0my\u001b[0m\u001b[0;34m,\u001b[0m \u001b[0msize\u001b[0m \u001b[0;34m=\u001b[0m \u001b[0mstate\u001b[0m\u001b[0;34m\u001b[0m\u001b[0;34m\u001b[0m\u001b[0m\n",
      "\u001b[0;31mKeyboardInterrupt\u001b[0m: "
     ]
    }
   ],
   "source": [
    "while 1:\n",
    "    sleep(REFRESH_RATE)\n",
    "    state = getIR()\n",
    "    if state:\n",
    "        x, y, size = state\n",
    "        print(x, y, size)\n",
    "        sleep(0.1)"
   ]
  },
  {
   "cell_type": "code",
   "execution_count": 139,
   "metadata": {},
   "outputs": [
    {
     "ename": "Terminator",
     "evalue": "",
     "output_type": "error",
     "traceback": [
      "\u001b[0;31m---------------------------------------------------------------------------\u001b[0m",
      "\u001b[0;31mTerminator\u001b[0m                                Traceback (most recent call last)",
      "\u001b[0;32m<ipython-input-139-261def45c37e>\u001b[0m in \u001b[0;36m<module>\u001b[0;34m\u001b[0m\n\u001b[1;32m      2\u001b[0m \u001b[0;32mfrom\u001b[0m \u001b[0mskimage\u001b[0m\u001b[0;34m.\u001b[0m\u001b[0mtransform\u001b[0m \u001b[0;32mimport\u001b[0m \u001b[0mProjectiveTransform\u001b[0m\u001b[0;34m\u001b[0m\u001b[0;34m\u001b[0m\u001b[0m\n\u001b[1;32m      3\u001b[0m \u001b[0;31m# turtle.setworldcoordinates(-1, -1, 20, 20)\u001b[0m\u001b[0;34m\u001b[0m\u001b[0;34m\u001b[0m\u001b[0;34m\u001b[0m\u001b[0m\n\u001b[0;32m----> 4\u001b[0;31m \u001b[0mscreen\u001b[0m \u001b[0;34m=\u001b[0m \u001b[0mturtle\u001b[0m\u001b[0;34m.\u001b[0m\u001b[0mgetscreen\u001b[0m\u001b[0;34m(\u001b[0m\u001b[0;34m)\u001b[0m\u001b[0;34m\u001b[0m\u001b[0;34m\u001b[0m\u001b[0m\n\u001b[0m\u001b[1;32m      5\u001b[0m \u001b[0mscreen\u001b[0m\u001b[0;34m.\u001b[0m\u001b[0msetup\u001b[0m\u001b[0;34m(\u001b[0m\u001b[0;36m500\u001b[0m\u001b[0;34m,\u001b[0m \u001b[0;36m1000\u001b[0m\u001b[0;34m)\u001b[0m\u001b[0;34m\u001b[0m\u001b[0;34m\u001b[0m\u001b[0m\n\u001b[1;32m      6\u001b[0m \u001b[0mscreen\u001b[0m\u001b[0;34m.\u001b[0m\u001b[0mcolormode\u001b[0m\u001b[0;34m(\u001b[0m\u001b[0;36m255\u001b[0m\u001b[0;34m)\u001b[0m\u001b[0;34m\u001b[0m\u001b[0;34m\u001b[0m\u001b[0m\n",
      "\u001b[0;32m/usr/lib/python3.6/turtle.py\u001b[0m in \u001b[0;36mgetscreen\u001b[0;34m()\u001b[0m\n",
      "\u001b[0;31mTerminator\u001b[0m: "
     ]
    }
   ],
   "source": [
    "\n",
    "import numpy as np\n",
    "from skimage.transform import ProjectiveTransform\n",
    "# turtle.setworldcoordinates(-1, -1, 20, 20)\n",
    "screen = turtle.getscreen()\n",
    "screen.setup(500, 1000)\n",
    "screen.colormode(255)\n",
    "turt = turtle.Turtle()\n",
    "turt.speed('fastest')\n",
    "turt.up()\n",
    "\n",
    "turt.goto(-250, 0)\n",
    "turt.pd()\n",
    "turt.goto(250, 0)\n",
    "turt.pu()\n",
    "turt.goto(0, 0)\n",
    "\n",
    "# import tkinter as tk\n",
    "# root = tk.Tk()\n",
    "# canvas = tk.Canvas(root, bg=\"white\", height=500, width=500)\n",
    "\n",
    "def circle(x: float, y: float, r: float = 5, top = True, color = (0, 0, 0)):\n",
    "    global turt\n",
    "    x = x * 500 - 250\n",
    "    y = y * 500 - 250\n",
    "    if top:\n",
    "        y += 250\n",
    "    else:\n",
    "        y -= 250\n",
    "    turt.goto(x, y)\n",
    "    turt.pd()\n",
    "    turt.pencolor(*color)\n",
    "    turt.circle(r)\n",
    "    turt.pu()\n",
    "\n",
    "REFRESH_RATE = 0.01\n",
    "mx, my = cwiid.IR_X_MAX, cwiid.IR_Y_MAX\n",
    "\n",
    "src = []\n",
    "while len(src) < 4:\n",
    "    sleep(REFRESH_RATE)\n",
    "    state = wm.state['ir_src'][0]\n",
    "    if state:\n",
    "        x, y = state['pos']\n",
    "        size = state['size']\n",
    "        x /= mx\n",
    "        y /= my\n",
    "        src.append((x, y))\n",
    "        circle(x, y, size, False, (0, 0, 255))\n",
    "        print(x, y)\n",
    "        sleep(0.5)\n",
    "\n",
    "src = np.asarray(src) # bottom_left, top_left, top_right, bottom_right\n",
    "dst = dst = np.asarray([[0, 0], [0, 1], [1, 1], [1, 0]])\n",
    "pt = ProjectiveTransform()\n",
    "pt.estimate(src, dst)\n",
    "print(src)\n",
    "print(\"\\ndone calibrating\")\n",
    "\n",
    "# REFRESH_RATE = 0.01\n",
    "while 1:\n",
    "    sleep(REFRESH_RATE)\n",
    "    state = wm.state['ir_src'][0]\n",
    "    if state:\n",
    "        x, y = state['pos']\n",
    "        size = state['size']\n",
    "        x /= mx\n",
    "        y /= my\n",
    "        circle(x, y, size, False)\n",
    "        transformed = pt([x, y])\n",
    "        circle(transformed[0][0], transformed[0][1], size)\n",
    "        print(transformed)\n",
    "turt.bye()"
   ]
  },
  {
   "cell_type": "code",
   "execution_count": 18,
   "metadata": {},
   "outputs": [
    {
     "name": "stdout",
     "output_type": "stream",
     "text": [
      "Calibrating...\n",
      "0.0244140625 0.2604166666666667 1\n",
      "0.1796875 0.7265625 1\n",
      "0.81640625 0.9283854166666666 1\n",
      "0.72265625 0.23567708333333334 2\n",
      "[[0.02441406 0.26041667]\n",
      " [0.1796875  0.7265625 ]\n",
      " [0.81640625 0.92838542]\n",
      " [0.72265625 0.23567708]]\n",
      "\n",
      "done calibrating\n"
     ]
    },
    {
     "ename": "KeyboardInterrupt",
     "evalue": "",
     "output_type": "error",
     "traceback": [
      "\u001b[0;31m---------------------------------------------------------------------------\u001b[0m",
      "\u001b[0;31mKeyboardInterrupt\u001b[0m                         Traceback (most recent call last)",
      "\u001b[0;32m<ipython-input-18-856a61690a50>\u001b[0m in \u001b[0;36m<module>\u001b[0;34m\u001b[0m\n\u001b[1;32m     36\u001b[0m \u001b[0;31m# REFRESH_RATE = 0.01\u001b[0m\u001b[0;34m\u001b[0m\u001b[0;34m\u001b[0m\u001b[0;34m\u001b[0m\u001b[0m\n\u001b[1;32m     37\u001b[0m \u001b[0;32mwhile\u001b[0m \u001b[0;36m1\u001b[0m\u001b[0;34m:\u001b[0m\u001b[0;34m\u001b[0m\u001b[0;34m\u001b[0m\u001b[0m\n\u001b[0;32m---> 38\u001b[0;31m     \u001b[0msleep\u001b[0m\u001b[0;34m(\u001b[0m\u001b[0mREFRESH_RATE\u001b[0m\u001b[0;34m)\u001b[0m\u001b[0;34m\u001b[0m\u001b[0;34m\u001b[0m\u001b[0m\n\u001b[0m\u001b[1;32m     39\u001b[0m     \u001b[0mir\u001b[0m \u001b[0;34m=\u001b[0m \u001b[0mgetIR\u001b[0m\u001b[0;34m(\u001b[0m\u001b[0;34m)\u001b[0m\u001b[0;34m\u001b[0m\u001b[0;34m\u001b[0m\u001b[0m\n\u001b[1;32m     40\u001b[0m     \u001b[0;32mif\u001b[0m \u001b[0mir\u001b[0m\u001b[0;34m:\u001b[0m\u001b[0;34m\u001b[0m\u001b[0;34m\u001b[0m\u001b[0m\n",
      "\u001b[0;31mKeyboardInterrupt\u001b[0m: "
     ]
    }
   ],
   "source": [
    "import numpy as np\n",
    "from skimage.transform import ProjectiveTransform\n",
    "\n",
    "REFRESH_RATE = 0.01\n",
    "mx, my = cwiid.IR_X_MAX, cwiid.IR_Y_MAX\n",
    "\n",
    "def getIR():\n",
    "    state = wm.state['ir_src'][0]\n",
    "    if state:\n",
    "        x, y = state['pos']\n",
    "        size = state['size']\n",
    "        x /= mx\n",
    "        y /= my\n",
    "        return x, y, size\n",
    "    else:\n",
    "        return None\n",
    "\n",
    "print(\"Calibrating...\")\n",
    "src = []\n",
    "while len(src) < 4:\n",
    "    sleep(REFRESH_RATE)\n",
    "    ir = getIR()\n",
    "    if ir:\n",
    "        x, y, size = ir\n",
    "        src.append((x, y))\n",
    "        print(x, y, size)\n",
    "        sleep(0.5)\n",
    "\n",
    "src = np.asarray(src) # bottom_left, top_left, top_right, bottom_right\n",
    "dst = dst = np.asarray([[0, 0], [0, 1], [1, 1], [1, 0]])\n",
    "pt = ProjectiveTransform()\n",
    "pt.estimate(src, dst)\n",
    "print(src)\n",
    "print(\"\\ndone calibrating\")\n",
    "\n",
    "# REFRESH_RATE = 0.01\n",
    "while 1:\n",
    "    sleep(REFRESH_RATE)\n",
    "    ir = getIR()\n",
    "    if ir:\n",
    "        x, y, size = ir\n",
    "        if 0 <= x <= 1 and 0 <= y <= 1:\n",
    "            tx, ty = pt([x, y])[0]\n",
    "            move(tx, ty)\n",
    "            print(tx, ty)"
   ]
  },
  {
   "cell_type": "code",
   "execution_count": null,
   "metadata": {},
   "outputs": [],
   "source": [
    "screen.bye()\n",
    "root.destroy()\n"
   ]
  },
  {
   "cell_type": "code",
   "execution_count": 14,
   "metadata": {},
   "outputs": [
    {
     "name": "stdout",
     "output_type": "stream",
     "text": [
      "screen res: 1920 1080\n"
     ]
    }
   ],
   "source": [
    "import mouse\n",
    "import subprocess\n",
    "output = subprocess.Popen('xrandr | grep \"\\*\" | cut -d\" \" -f4',shell=True, stdout=subprocess.PIPE).communicate()[0]\n",
    "SCREENX, SCREENY = map(int, output.decode('utf-8').rstrip().split('x'))\n",
    "print('screen res:', SCREENX, SCREENY)\n",
    "def move(x: float, y: float) -> None:\n",
    "    mouse.move(x * SCREENX, (1 - y) * SCREENY)\n"
   ]
  },
  {
   "cell_type": "code",
   "execution_count": 149,
   "metadata": {},
   "outputs": [
    {
     "name": "stdout",
     "output_type": "stream",
     "text": [
      "0.46153846153846156\n"
     ]
    }
   ],
   "source": [
    "dir(cwiid)\n",
    "# print(cwiid.IR_X_MAX, cwiid.IR_Y_MAX)\n",
    "# wm.rpt_mode = cwiid.RPT_IR ^ cwiid.RPT_BTN\n",
    "print(wm.state['battery'] / cwiid.BATTERY_MAX)"
   ]
  },
  {
   "cell_type": "code",
   "execution_count": 2,
   "metadata": {},
   "outputs": [
    {
     "ename": "ImportError",
     "evalue": "You must be root to use this library on linux.",
     "output_type": "error",
     "traceback": [
      "\u001b[0;31m---------------------------------------------------------------------------\u001b[0m",
      "\u001b[0;31mImportError\u001b[0m                               Traceback (most recent call last)",
      "\u001b[0;32m<ipython-input-2-698d65bfdf50>\u001b[0m in \u001b[0;36m<module>\u001b[0;34m\u001b[0m\n\u001b[1;32m      1\u001b[0m \u001b[0;32mimport\u001b[0m \u001b[0mmouse\u001b[0m\u001b[0;34m\u001b[0m\u001b[0;34m\u001b[0m\u001b[0m\n\u001b[0;32m----> 2\u001b[0;31m \u001b[0mmouse\u001b[0m\u001b[0;34m.\u001b[0m\u001b[0mpress\u001b[0m\u001b[0;34m(\u001b[0m\u001b[0;34m)\u001b[0m\u001b[0;34m\u001b[0m\u001b[0;34m\u001b[0m\u001b[0m\n\u001b[0m",
      "\u001b[0;32m~/.local/lib/python3.6/site-packages/mouse/__init__.py\u001b[0m in \u001b[0;36mpress\u001b[0;34m(button)\u001b[0m\n\u001b[1;32m     83\u001b[0m \u001b[0;32mdef\u001b[0m \u001b[0mpress\u001b[0m\u001b[0;34m(\u001b[0m\u001b[0mbutton\u001b[0m\u001b[0;34m=\u001b[0m\u001b[0mLEFT\u001b[0m\u001b[0;34m)\u001b[0m\u001b[0;34m:\u001b[0m\u001b[0;34m\u001b[0m\u001b[0;34m\u001b[0m\u001b[0m\n\u001b[1;32m     84\u001b[0m     \u001b[0;34m\"\"\" Presses the given button (but doesn't release). \"\"\"\u001b[0m\u001b[0;34m\u001b[0m\u001b[0;34m\u001b[0m\u001b[0m\n\u001b[0;32m---> 85\u001b[0;31m     \u001b[0m_os_mouse\u001b[0m\u001b[0;34m.\u001b[0m\u001b[0mpress\u001b[0m\u001b[0;34m(\u001b[0m\u001b[0mbutton\u001b[0m\u001b[0;34m)\u001b[0m\u001b[0;34m\u001b[0m\u001b[0;34m\u001b[0m\u001b[0m\n\u001b[0m\u001b[1;32m     86\u001b[0m \u001b[0;34m\u001b[0m\u001b[0m\n\u001b[1;32m     87\u001b[0m \u001b[0;32mdef\u001b[0m \u001b[0mrelease\u001b[0m\u001b[0;34m(\u001b[0m\u001b[0mbutton\u001b[0m\u001b[0;34m=\u001b[0m\u001b[0mLEFT\u001b[0m\u001b[0;34m)\u001b[0m\u001b[0;34m:\u001b[0m\u001b[0;34m\u001b[0m\u001b[0;34m\u001b[0m\u001b[0m\n",
      "\u001b[0;32m~/.local/lib/python3.6/site-packages/mouse/_nixmouse.py\u001b[0m in \u001b[0;36mpress\u001b[0;34m(button)\u001b[0m\n\u001b[1;32m    103\u001b[0m \u001b[0;34m\u001b[0m\u001b[0m\n\u001b[1;32m    104\u001b[0m \u001b[0;32mdef\u001b[0m \u001b[0mpress\u001b[0m\u001b[0;34m(\u001b[0m\u001b[0mbutton\u001b[0m\u001b[0;34m=\u001b[0m\u001b[0mLEFT\u001b[0m\u001b[0;34m)\u001b[0m\u001b[0;34m:\u001b[0m\u001b[0;34m\u001b[0m\u001b[0;34m\u001b[0m\u001b[0m\n\u001b[0;32m--> 105\u001b[0;31m     \u001b[0mbuild_device\u001b[0m\u001b[0;34m(\u001b[0m\u001b[0;34m)\u001b[0m\u001b[0;34m\u001b[0m\u001b[0;34m\u001b[0m\u001b[0m\n\u001b[0m\u001b[1;32m    106\u001b[0m     \u001b[0mdevice\u001b[0m\u001b[0;34m.\u001b[0m\u001b[0mwrite_event\u001b[0m\u001b[0;34m(\u001b[0m\u001b[0mEV_KEY\u001b[0m\u001b[0;34m,\u001b[0m \u001b[0mcode_by_button\u001b[0m\u001b[0;34m[\u001b[0m\u001b[0mbutton\u001b[0m\u001b[0;34m]\u001b[0m\u001b[0;34m,\u001b[0m \u001b[0;36m0x01\u001b[0m\u001b[0;34m)\u001b[0m\u001b[0;34m\u001b[0m\u001b[0;34m\u001b[0m\u001b[0m\n\u001b[1;32m    107\u001b[0m \u001b[0;34m\u001b[0m\u001b[0m\n",
      "\u001b[0;32m~/.local/lib/python3.6/site-packages/mouse/_nixmouse.py\u001b[0m in \u001b[0;36mbuild_device\u001b[0;34m()\u001b[0m\n\u001b[1;32m     70\u001b[0m     \u001b[0;32mglobal\u001b[0m \u001b[0mdevice\u001b[0m\u001b[0;34m\u001b[0m\u001b[0;34m\u001b[0m\u001b[0m\n\u001b[1;32m     71\u001b[0m     \u001b[0;32mif\u001b[0m \u001b[0mdevice\u001b[0m\u001b[0;34m:\u001b[0m \u001b[0;32mreturn\u001b[0m\u001b[0;34m\u001b[0m\u001b[0;34m\u001b[0m\u001b[0m\n\u001b[0;32m---> 72\u001b[0;31m     \u001b[0mensure_root\u001b[0m\u001b[0;34m(\u001b[0m\u001b[0;34m)\u001b[0m\u001b[0;34m\u001b[0m\u001b[0;34m\u001b[0m\u001b[0m\n\u001b[0m\u001b[1;32m     73\u001b[0m     \u001b[0mdevice\u001b[0m \u001b[0;34m=\u001b[0m \u001b[0maggregate_devices\u001b[0m\u001b[0;34m(\u001b[0m\u001b[0;34m'mouse'\u001b[0m\u001b[0;34m)\u001b[0m\u001b[0;34m\u001b[0m\u001b[0;34m\u001b[0m\u001b[0m\n\u001b[1;32m     74\u001b[0m \u001b[0minit\u001b[0m \u001b[0;34m=\u001b[0m \u001b[0mbuild_device\u001b[0m\u001b[0;34m\u001b[0m\u001b[0;34m\u001b[0m\u001b[0m\n",
      "\u001b[0;32m~/.local/lib/python3.6/site-packages/mouse/_nixcommon.py\u001b[0m in \u001b[0;36mensure_root\u001b[0;34m()\u001b[0m\n\u001b[1;32m    163\u001b[0m \u001b[0;32mdef\u001b[0m \u001b[0mensure_root\u001b[0m\u001b[0;34m(\u001b[0m\u001b[0;34m)\u001b[0m\u001b[0;34m:\u001b[0m\u001b[0;34m\u001b[0m\u001b[0;34m\u001b[0m\u001b[0m\n\u001b[1;32m    164\u001b[0m     \u001b[0;32mif\u001b[0m \u001b[0mos\u001b[0m\u001b[0;34m.\u001b[0m\u001b[0mgeteuid\u001b[0m\u001b[0;34m(\u001b[0m\u001b[0;34m)\u001b[0m \u001b[0;34m!=\u001b[0m \u001b[0;36m0\u001b[0m\u001b[0;34m:\u001b[0m\u001b[0;34m\u001b[0m\u001b[0;34m\u001b[0m\u001b[0m\n\u001b[0;32m--> 165\u001b[0;31m         \u001b[0;32mraise\u001b[0m \u001b[0mImportError\u001b[0m\u001b[0;34m(\u001b[0m\u001b[0;34m'You must be root to use this library on linux.'\u001b[0m\u001b[0;34m)\u001b[0m\u001b[0;34m\u001b[0m\u001b[0;34m\u001b[0m\u001b[0m\n\u001b[0m",
      "\u001b[0;31mImportError\u001b[0m: You must be root to use this library on linux."
     ]
    }
   ],
   "source": [
    "import mouse\n",
    "mouse.press()"
   ]
  },
  {
   "cell_type": "code",
   "execution_count": 7,
   "metadata": {},
   "outputs": [
    {
     "name": "stdout",
     "output_type": "stream",
     "text": [
      "False"
     ]
    },
    {
     "ename": "KeyboardInterrupt",
     "evalue": "",
     "output_type": "error",
     "traceback": [
      "\u001b[0;31m---------------------------------------------------------------------------\u001b[0m",
      "\u001b[0;31mKeyboardInterrupt\u001b[0m                         Traceback (most recent call last)",
      "\u001b[0;32m<ipython-input-7-b8d3e368a204>\u001b[0m in \u001b[0;36m<module>\u001b[0;34m\u001b[0m\n\u001b[1;32m     24\u001b[0m \u001b[0;34m\u001b[0m\u001b[0m\n\u001b[1;32m     25\u001b[0m \u001b[0;32mwhile\u001b[0m \u001b[0;36m1\u001b[0m\u001b[0;34m:\u001b[0m\u001b[0;34m\u001b[0m\u001b[0;34m\u001b[0m\u001b[0m\n\u001b[0;32m---> 26\u001b[0;31m     \u001b[0msleep\u001b[0m\u001b[0;34m(\u001b[0m\u001b[0mREFRESH_RATE\u001b[0m\u001b[0;34m)\u001b[0m\u001b[0;34m\u001b[0m\u001b[0;34m\u001b[0m\u001b[0m\n\u001b[0m\u001b[1;32m     27\u001b[0m     \u001b[0mir\u001b[0m \u001b[0;34m=\u001b[0m \u001b[0mgetNormalizedIR\u001b[0m\u001b[0;34m(\u001b[0m\u001b[0;34m)\u001b[0m\u001b[0;34m\u001b[0m\u001b[0;34m\u001b[0m\u001b[0m\n\u001b[1;32m     28\u001b[0m     \u001b[0;32mif\u001b[0m \u001b[0mir\u001b[0m\u001b[0;34m:\u001b[0m\u001b[0;34m\u001b[0m\u001b[0;34m\u001b[0m\u001b[0m\n",
      "\u001b[0;31mKeyboardInterrupt\u001b[0m: "
     ]
    }
   ],
   "source": [
    "import sys\n",
    "from time import time\n",
    "import pyautogui as gui\n",
    "from collections import deque\n",
    "mx, my = cwiid.IR_X_MAX, cwiid.IR_Y_MAX\n",
    "gui.PAUSE = 0\n",
    "gui.FAILSAFE = False\n",
    "MAX_HISTORY_LEN = 20\n",
    "history = deque((False for _ in range(MAX_HISTORY_LEN)), maxlen=MAX_HISTORY_LEN)\n",
    "pos = (0, 0)\n",
    "\n",
    "def getNormalizedIR():\n",
    "    state = wm.state['ir_src'][0]\n",
    "    if state:\n",
    "        x, y = state['pos']\n",
    "        size = state['size']\n",
    "        x /= mx\n",
    "        y /= my\n",
    "        return x, y, size\n",
    "    else:\n",
    "        return None\n",
    "\n",
    "REFRESH_RATE = 0.01\n",
    "\n",
    "while 1:\n",
    "    sleep(REFRESH_RATE)\n",
    "    ir = getNormalizedIR()\n",
    "    if ir:\n",
    "        x, y, size = ir # if 0 <= x <= 1 and 0 <= y <= 1:\n",
    "    \n",
    "    if any(history):\n",
    "#         start = time()\n",
    "        gui.mouseDown()\n",
    "#         end = time() - start\n",
    "#         print(end)\n",
    "    else:\n",
    "        gui.mouseUp()\n",
    "    \n",
    "    \n",
    "    history.append(bool(ir))\n",
    "    history.popleft()\n",
    "    sys.stdout.write('\\r' + str(any(history)))"
   ]
  },
  {
   "cell_type": "code",
   "execution_count": 34,
   "metadata": {},
   "outputs": [],
   "source": [
    "\n",
    "\n"
   ]
  },
  {
   "cell_type": "code",
   "execution_count": 7,
   "metadata": {},
   "outputs": [],
   "source": [
    "import turtle\n",
    "import select\n",
    "import sys\n",
    "from collections import deque\n",
    "screen = turtle.getscreen()\n",
    "screen.setup(500, 500) \n",
    "screen.colormode(255)\n",
    "turt = turtle.Turtle()\n",
    "turt.ht()\n",
    "turt.speed('fastest')\n",
    "turt.up()\n",
    "\n",
    "mx, my = cwiid.IR_X_MAX, cwiid.IR_Y_MAX\n",
    "def getNormalizedIR():\n",
    "    state = wm.state['ir_src'][0]\n",
    "    if state:\n",
    "        x, y = state['pos']\n",
    "        size = state['size']\n",
    "        x /= mx\n",
    "        y /= my\n",
    "        return x, y, size\n",
    "    else:\n",
    "        return None\n",
    "\n",
    "def circle(x: float, y: float, r: float = 5, color = (0, 0, 0)):\n",
    "    global turt\n",
    "    x = x * 500 - 250\n",
    "    y = y * 500 - 250\n",
    "    turt.goto(x, y)\n",
    "    turt.pd()\n",
    "    turt.pencolor(*color)\n",
    "    turt.circle(r)\n",
    "    turt.pu()\n",
    "\n",
    "MAX_LEN = 10\n",
    "history = deque(maxlen=MAX_LEN)\n",
    "\n",
    "while 1:\n",
    "    if select.select([sys.stdin,],[],[],0.0)[0]:\n",
    "        break\n",
    "    state = getNormalizedIR()\n",
    "    if state:\n",
    "        x, y, size = state\n",
    "        circle(x, y, size)\n",
    "        if len(history) >= MAX_LEN:\n",
    "            nx, ny, nsize = history.popleft()\n",
    "            circle(nx, ny, nsize, (255, 255, 255))\n",
    "        history.append((x, y, size))\n",
    "screen.bye()"
   ]
  },
  {
   "cell_type": "code",
   "execution_count": 5,
   "metadata": {},
   "outputs": [],
   "source": [
    "screen.bye()"
   ]
  },
  {
   "cell_type": "code",
   "execution_count": null,
   "metadata": {},
   "outputs": [],
   "source": []
  }
 ],
 "metadata": {
  "kernelspec": {
   "display_name": "venv",
   "language": "python",
   "name": "venv"
  },
  "language_info": {
   "codemirror_mode": {
    "name": "ipython",
    "version": 3
   },
   "file_extension": ".py",
   "mimetype": "text/x-python",
   "name": "python",
   "nbconvert_exporter": "python",
   "pygments_lexer": "ipython3",
   "version": "3.6.9"
  }
 },
 "nbformat": 4,
 "nbformat_minor": 4
}
